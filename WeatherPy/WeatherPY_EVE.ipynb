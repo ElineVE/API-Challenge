{
 "cells": [
  {
   "cell_type": "markdown",
   "metadata": {},
   "source": [
    "# WeatherPy\n",
    "----\n",
    "\n",
    "#### Note\n",
    "* Instructions have been included for each segment. You do not have to follow them exactly, but they are included to help you think through the steps."
   ]
  },
  {
   "cell_type": "code",
   "execution_count": 1,
   "metadata": {
    "scrolled": true
   },
   "outputs": [],
   "source": [
    "# Dependencies and Setup\n",
    "import matplotlib.pyplot as plt\n",
    "import pandas as pd\n",
    "import numpy as np\n",
    "import requests\n",
    "import time\n",
    "from scipy.stats import linregress\n",
    "from pprint import pprint\n",
    "import json\n",
    "from datetime import datetime\n",
    "\n",
    "# Import API keys\n",
    "from api_keys import g_key\n",
    "from api_keys import weather_api_key\n",
    "\n",
    "\n",
    "# Incorporated citipy to determine city based on latitude and longitude\n",
    "from citipy import citipy\n",
    "\n",
    "# Output File (CSV)\n",
    "output_data_file = \"output_data/cities.csv\"\n",
    "\n",
    "# Set latitude and longitude range\n",
    "lat_range = (-90, 90)\n",
    "lng_range = (-180, 180)"
   ]
  },
  {
   "cell_type": "markdown",
   "metadata": {},
   "source": [
    "## Generate Cities List"
   ]
  },
  {
   "cell_type": "code",
   "execution_count": 2,
   "metadata": {},
   "outputs": [
    {
     "data": {
      "text/plain": [
       "631"
      ]
     },
     "execution_count": 2,
     "metadata": {},
     "output_type": "execute_result"
    }
   ],
   "source": [
    "# Create lists for holding latlongs and cities\n",
    "latlongs = []\n",
    "cities = []\n",
    "\n",
    "# Create a set of random lat and lng combinations\n",
    "lats = np.random.uniform(lat_range[0], lat_range[1], size=1500)\n",
    "lngs = np.random.uniform(lng_range[0], lng_range[1], size=1500)\n",
    "latlongs = zip(lats, lngs)\n",
    "\n",
    "# Identify nearest city for each lat, lng combination\n",
    "for latlong in latlongs:\n",
    "    city = citipy.nearest_city(latlong[0], latlong[1]).city_name\n",
    "    \n",
    "    # If the city is unique, then add it to a our cities list\n",
    "    if city not in cities:\n",
    "        cities.append(city)\n",
    "\n",
    "# Print the city count to confirm sufficient count\n",
    "len(cities)"
   ]
  },
  {
   "cell_type": "markdown",
   "metadata": {},
   "source": [
    "### Perform API Calls\n",
    "* Perform a weather check on each city using a series of successive API calls.\n",
    "* Include a print log of each city as it'sbeing processed (with the city number and city name).\n"
   ]
  },
  {
   "cell_type": "code",
   "execution_count": 3,
   "metadata": {},
   "outputs": [
    {
     "name": "stdout",
     "output_type": "stream",
     "text": [
      "http://api.openweathermap.org/data/2.5/weather?appid=3fb89facec5181e930a0dbfc6f663ba7&units=imperial&q=London\n"
     ]
    }
   ],
   "source": [
    "# put API key in for loop, request for every singly city\n",
    "\n",
    "url = \"http://api.openweathermap.org/data/2.5/weather?\"\n",
    "\n",
    "units = \"imperial\"\n",
    "\n",
    "query_url = f\"{url}appid={weather_api_key}&units={units}&q=London\"\n",
    "print(query_url)"
   ]
  },
  {
   "cell_type": "code",
   "execution_count": 4,
   "metadata": {},
   "outputs": [
    {
     "name": "stdout",
     "output_type": "stream",
     "text": [
      "{'base': 'stations',\n",
      " 'clouds': {'all': 90},\n",
      " 'cod': 200,\n",
      " 'coord': {'lat': 51.51, 'lon': -0.13},\n",
      " 'dt': 1593272586,\n",
      " 'id': 2643743,\n",
      " 'main': {'feels_like': 58.06,\n",
      "          'humidity': 63,\n",
      "          'pressure': 1004,\n",
      "          'temp': 66.15,\n",
      "          'temp_max': 68,\n",
      "          'temp_min': 64.99},\n",
      " 'name': 'London',\n",
      " 'sys': {'country': 'GB',\n",
      "         'id': 1414,\n",
      "         'sunrise': 1593229521,\n",
      "         'sunset': 1593289303,\n",
      "         'type': 1},\n",
      " 'timezone': 3600,\n",
      " 'visibility': 10000,\n",
      " 'weather': [{'description': 'light rain',\n",
      "              'icon': '10d',\n",
      "              'id': 500,\n",
      "              'main': 'Rain'}],\n",
      " 'wind': {'deg': 210, 'gust': 28.86, 'speed': 16.11}}\n",
      "13\n"
     ]
    }
   ],
   "source": [
    "response = requests.get(query_url).json()\n",
    "pprint(response)\n",
    "print (len(response))"
   ]
  },
  {
   "cell_type": "code",
   "execution_count": 5,
   "metadata": {},
   "outputs": [
    {
     "data": {
      "text/plain": [
       "'{\\n    \"coord\": {\\n        \"lon\": -0.13,\\n        \"lat\": 51.51\\n    },\\n    \"weather\": [\\n        {\\n            \"id\": 500,\\n            \"main\": \"Rain\",\\n            \"description\": \"light rain\",\\n            \"icon\": \"10d\"\\n        }\\n    ],\\n    \"base\": \"stations\",\\n    \"main\": {\\n        \"temp\": 66.15,\\n        \"feels_like\": 58.06,\\n        \"temp_min\": 64.99,\\n        \"temp_max\": 68,\\n        \"pressure\": 1004,\\n        \"humidity\": 63\\n    },\\n    \"visibility\": 10000,\\n    \"wind\": {\\n        \"speed\": 16.11,\\n        \"deg\": 210,\\n        \"gust\": 28.86\\n    },\\n    \"clouds\": {\\n        \"all\": 90\\n    },\\n    \"dt\": 1593272586,\\n    \"sys\": {\\n        \"type\": 1,\\n        \"id\": 1414,\\n        \"country\": \"GB\",\\n        \"sunrise\": 1593229521,\\n        \"sunset\": 1593289303\\n    },\\n    \"timezone\": 3600,\\n    \"id\": 2643743,\\n    \"name\": \"London\",\\n    \"cod\": 200\\n}'"
      ]
     },
     "execution_count": 5,
     "metadata": {},
     "output_type": "execute_result"
    }
   ],
   "source": [
    "json.dumps(response,indent=4)"
   ]
  },
  {
   "cell_type": "code",
   "execution_count": 6,
   "metadata": {},
   "outputs": [],
   "source": [
    "# Create lists to store results\n",
    "\n",
    "#Temperature (F) vs. Latitude\n",
    "# Humidity (%) vs. Latitude\n",
    "# Cloudiness (%) vs. Latitude\n",
    "# Wind Speed (mph) vs. Latitude\n",
    "weather_api_key = \"3fb89facec5181e930a0dbfc6f663ba7\"\n",
    "citydata = []\n",
    "query_url = \"http://api.openweathermap.org/data/2.5/weather?units=Imperial&APPID=\" + weather_api_key"
   ]
  },
  {
   "cell_type": "code",
   "execution_count": 7,
   "metadata": {},
   "outputs": [
    {
     "name": "stdout",
     "output_type": "stream",
     "text": [
      "City not found: amderma\n",
      "syumsi\n",
      "svetlyy\n",
      "husavik\n",
      "saint-philippe\n",
      "gazanjyk\n",
      "vaini\n",
      "provideniya\n",
      "pudozh\n",
      "albany\n",
      "beian\n",
      "sapa\n",
      "schmalkalden\n",
      "City not found: hunza\n",
      "carnarvon\n",
      "pangnirtung\n",
      "dhidhdhoo\n",
      "atuona\n",
      "bluff\n",
      "ushuaia\n",
      "sur\n",
      "egvekinot\n",
      "City not found: tubruq\n",
      "piacabucu\n",
      "City not found: shchelyayur\n",
      "smolenka\n",
      "busselton\n",
      "punta arenas\n",
      "grindavik\n",
      "kaitangata\n",
      "saint george\n",
      "mahebourg\n",
      "yellowknife\n",
      "smederevska palanka\n",
      "ribeira grande\n",
      "vanimo\n",
      "barrow\n",
      "zanesville\n",
      "tasiilaq\n",
      "port alfred\n",
      "City not found: saleaula\n",
      "butaritari\n",
      "mataura\n",
      "longkou\n",
      "naro-fominsk\n",
      "andenes\n",
      "belmonte\n",
      "abashiri\n",
      "hilo\n",
      "kodiak\n",
      "rikitea\n",
      "tommot\n",
      "bemidji\n",
      "honiara\n",
      "taft\n",
      "lida\n",
      "new norfolk\n",
      "qaqortoq\n",
      "saskylakh\n",
      "aksarka\n",
      "City not found: toliary\n",
      "okhotsk\n",
      "katherine\n",
      "akyab\n",
      "qaanaaq\n",
      "aklavik\n",
      "City not found: artyk\n",
      "port blair\n",
      "diu\n",
      "hobart\n",
      "ponta do sol\n",
      "shimoda\n",
      "bengkulu\n",
      "gravdal\n",
      "City not found: fevralsk\n",
      "City not found: tabiauea\n",
      "dubbo\n",
      "airai\n",
      "souillac\n",
      "carupano\n",
      "hermiston\n",
      "puerto ayora\n",
      "luocheng\n",
      "ndele\n",
      "hit\n",
      "cururupu\n",
      "City not found: lenki\n",
      "trinidad\n",
      "havoysund\n",
      "City not found: taolanaro\n",
      "cape town\n",
      "avarua\n",
      "City not found: mys shmidta\n",
      "karatau\n",
      "bulungu\n",
      "tautira\n",
      "sigli\n",
      "georgetown\n",
      "victor harbor\n",
      "nobres\n",
      "camacha\n",
      "burayevo\n",
      "ahipara\n",
      "jamame\n",
      "khatanga\n",
      "hovd\n",
      "alghero\n",
      "peniche\n",
      "kahului\n",
      "taunggyi\n",
      "kingman\n",
      "esperance\n",
      "severo-kurilsk\n",
      "hermanus\n",
      "castro\n",
      "jamestown\n",
      "the valley\n",
      "shestakovo\n",
      "City not found: daxian\n",
      "dikson\n",
      "nouadhibou\n",
      "sitka\n",
      "college\n",
      "olafsvik\n",
      "City not found: grand river south east\n",
      "pyinmana\n",
      "laguna\n",
      "vestmannaeyjar\n",
      "bredasdorp\n",
      "isla mujeres\n",
      "cidreira\n",
      "hithadhoo\n",
      "City not found: nizhneyansk\n",
      "rossosh\n",
      "City not found: sentyabrskiy\n",
      "arraial do cabo\n",
      "padang\n",
      "pochutla\n",
      "port elizabeth\n",
      "cabo san lucas\n",
      "geraldton\n",
      "chicama\n",
      "alofi\n",
      "kamphaeng phet\n",
      "riviere-du-loup\n",
      "sawakin\n",
      "kapaa\n",
      "kidal\n",
      "fukue\n",
      "brae\n",
      "tezu\n",
      "hays\n",
      "kolochava\n",
      "City not found: gilazi\n",
      "ambilobe\n",
      "lompoc\n",
      "mnogovershinnyy\n",
      "coquimbo\n",
      "City not found: burica\n",
      "aden\n",
      "jian\n",
      "tuktoyaktuk\n",
      "longyearbyen\n",
      "berlevag\n",
      "vostok\n",
      "saucillo\n",
      "coolum beach\n",
      "aron\n",
      "saint-jean-de-maurienne\n",
      "upernavik\n",
      "iqaluit\n",
      "acarau\n",
      "pedernales\n",
      "matamoros\n",
      "san policarpo\n",
      "City not found: lushunkou\n",
      "kudahuvadhoo\n",
      "paamiut\n",
      "baiyin\n",
      "mount isa\n",
      "port pirie\n",
      "suntar\n",
      "antsla\n",
      "sinnamary\n",
      "City not found: crab hill\n",
      "cherskiy\n",
      "port hardy\n",
      "pervomaysk\n",
      "torbay\n",
      "camacupa\n",
      "arman\n",
      "elwood\n",
      "staryy oskol\n",
      "san patricio\n",
      "udachnyy\n",
      "kruisfontein\n",
      "City not found: attawapiskat\n",
      "talnakh\n",
      "ushtobe\n",
      "east london\n",
      "bronnoysund\n",
      "broken hill\n",
      "orlik\n",
      "thompson\n",
      "mehamn\n",
      "magistralnyy\n",
      "senador jose porfirio\n",
      "sawtell\n",
      "dunedin\n",
      "barra dos coqueiros\n",
      "City not found: grand centre\n",
      "bethel\n",
      "ilulissat\n",
      "narsaq\n",
      "colares\n",
      "santa cruz\n",
      "constitucion\n",
      "hokitika\n",
      "marzuq\n",
      "yokadouma\n",
      "kotovo\n",
      "lorengau\n",
      "somerset\n",
      "pushkino\n",
      "manama\n",
      "City not found: lar gerd\n",
      "morondava\n",
      "kavaratti\n",
      "City not found: karkaralinsk\n",
      "mbengwi\n",
      "mitsamiouli\n",
      "jadu\n",
      "poum\n",
      "City not found: galgani\n",
      "kachiry\n",
      "City not found: vaitupu\n",
      "sibolga\n",
      "petropavl\n",
      "faanui\n",
      "huarmey\n",
      "tifton\n",
      "bandarbeyla\n",
      "auki\n",
      "larsnes\n",
      "kloulklubed\n",
      "bonfim\n",
      "norman wells\n",
      "longonjo\n",
      "man\n",
      "nishihara\n",
      "lokoja\n",
      "bambous virieux\n",
      "saint-francois\n",
      "cairns\n",
      "otane\n",
      "san juan del sur\n",
      "tilichiki\n",
      "sao filipe\n",
      "City not found: labutta\n",
      "cayenne\n",
      "geneva\n",
      "kurumkan\n",
      "balashov\n",
      "saint-georges\n",
      "ostrovnoy\n",
      "kalaikunda\n",
      "kavieng\n",
      "jiayuguan\n",
      "pimentel\n",
      "terme\n",
      "portland\n",
      "jacareacanga\n",
      "City not found: mogochin\n",
      "guerrero negro\n",
      "storm lake\n",
      "ongole\n",
      "City not found: palabuhanratu\n",
      "kutum\n",
      "sobolevo\n",
      "ihosy\n",
      "hofn\n",
      "luderitz\n",
      "vila franca do campo\n",
      "villers-les-nancy\n",
      "City not found: ilinsko-podomskoye\n",
      "nemuro\n",
      "City not found: illoqqortoormiut\n",
      "City not found: candawaga\n",
      "touros\n",
      "jalu\n",
      "chuy\n",
      "chanika\n",
      "City not found: eskasem\n",
      "caluquembe\n",
      "nara\n",
      "hamilton\n",
      "darnah\n",
      "villa de reyes\n",
      "mecca\n",
      "City not found: umzimvubu\n",
      "City not found: marcona\n",
      "burnie\n",
      "paita\n",
      "charters towers\n",
      "bisira\n",
      "villa del rosario\n",
      "lagoa\n",
      "coihaique\n",
      "tucumcari\n",
      "City not found: belushya guba\n",
      "safut\n",
      "City not found: laiagam\n",
      "farah\n",
      "City not found: dinsor\n",
      "rudnogorsk\n",
      "fare\n",
      "karoi\n",
      "kabare\n",
      "lebu\n",
      "City not found: louisbourg\n",
      "mar del plata\n",
      "erenhot\n",
      "mount gambier\n",
      "chokurdakh\n",
      "wewak\n",
      "cap malheureux\n",
      "sedlcany\n",
      "ferme-neuve\n",
      "jinji\n",
      "khakhea\n",
      "oyama\n",
      "prado\n",
      "port lincoln\n",
      "City not found: dzhusaly\n",
      "hvolsvollur\n",
      "asau\n",
      "City not found: barentsburg\n",
      "hami\n",
      "batangafo\n",
      "boa vista\n",
      "City not found: ust-kamchatsk\n",
      "tucuman\n",
      "prince rupert\n",
      "nuuk\n",
      "aksha\n",
      "City not found: chagda\n",
      "maceio\n",
      "sistranda\n",
      "City not found: tsihombe\n",
      "tessalit\n",
      "xochistlahuaca\n",
      "hasaki\n",
      "bowen\n",
      "katsuura\n",
      "City not found: chatsu\n",
      "los alamos\n",
      "pendleton\n",
      "frontera\n",
      "fernley\n",
      "phek\n",
      "shache\n",
      "yanam\n",
      "ryde\n",
      "victoria\n",
      "sao sebastiao do cai\n",
      "diamantino\n",
      "nikolskoye\n",
      "pau brasil\n",
      "vao\n",
      "uyemskiy\n",
      "villa carlos paz\n",
      "camana\n",
      "soluno-dmitriyevskoye\n",
      "half moon bay\n",
      "alice town\n",
      "el dorado\n",
      "codrington\n",
      "macenta\n",
      "makubetsu\n",
      "korla\n",
      "gainesville\n",
      "newry\n",
      "tiksi\n",
      "tuatapere\n",
      "high level\n",
      "pingzhuang\n",
      "pocone\n",
      "sinazongwe\n",
      "City not found: samusu\n",
      "City not found: samalaeulu\n",
      "saint-augustin\n",
      "tsuruoka\n",
      "praia\n",
      "vila velha\n",
      "margate\n",
      "slyudyanka\n",
      "lavrentiya\n",
      "orotukan\n",
      "montrose\n",
      "clyde river\n",
      "ixtapa\n",
      "tabuk\n",
      "pangody\n",
      "wuwei\n",
      "larvik\n",
      "jawhar\n",
      "uyuni\n",
      "saint-pierre\n",
      "aswan\n",
      "jackson\n",
      "pevek\n",
      "kawalu\n",
      "bozeman\n",
      "tyukhtet\n",
      "salalah\n",
      "timmins\n",
      "bosaso\n",
      "saldanha\n",
      "thap than\n",
      "arenzano\n",
      "sorland\n",
      "kalininsk\n",
      "yingcheng\n",
      "kayerkan\n",
      "tipperary\n",
      "City not found: ngukurr\n",
      "tacoronte\n",
      "svetlogorsk\n",
      "palana\n",
      "amahai\n",
      "rio branco\n",
      "washougal\n",
      "chachapoyas\n",
      "kenai\n",
      "huilong\n",
      "bathsheba\n",
      "shingu\n",
      "bukama\n",
      "bermejo\n",
      "plouzane\n",
      "lewiston\n",
      "veraval\n",
      "del rio\n",
      "vamdrup\n",
      "narva-joesuu\n",
      "bogorodskoye\n",
      "City not found: coulihaut\n",
      "takaka\n",
      "City not found: el faiyum\n",
      "catamarca\n",
      "abha\n",
      "acapulco\n",
      "ganzhou\n",
      "itarema\n",
      "huancabamba\n",
      "namtsy\n",
      "City not found: nguiu\n",
      "abalak\n",
      "micheweni\n",
      "puerto rondon\n",
      "san ramon\n",
      "harbour breton\n",
      "yulara\n",
      "ituiutaba\n",
      "viedma\n",
      "rocha\n",
      "kuching\n",
      "ulladulla\n",
      "taltal\n",
      "City not found: tawkar\n",
      "gubkinskiy\n",
      "benito juarez\n",
      "City not found: safwah\n",
      "balintore\n",
      "brawley\n",
      "ucluelet\n",
      "evensk\n",
      "la ronge\n",
      "tuxpan\n",
      "flinders\n",
      "pangoa\n",
      "warrington\n",
      "netanya\n",
      "samarai\n",
      "turukhansk\n",
      "madhipura\n",
      "kaabong\n",
      "peabiru\n",
      "itoman\n",
      "juneau\n",
      "leningradskiy\n",
      "northam\n",
      "yakeshi\n",
      "limbang\n",
      "san cristobal\n",
      "kamenka\n",
      "abu samrah\n",
      "isangel\n",
      "okakarara\n",
      "humaita\n",
      "walvis bay\n",
      "City not found: sumbawa\n",
      "roma\n",
      "mahibadhoo\n",
      "ronne\n",
      "olinda\n",
      "beringovskiy\n",
      "City not found: balimo\n",
      "manjacaze\n",
      "coos bay\n",
      "casaluce\n",
      "the pas\n",
      "cascais\n",
      "mankapur\n",
      "moron\n",
      "carutapera\n",
      "severomorsk\n",
      "faya\n",
      "novobirilyussy\n",
      "hambantota\n",
      "road town\n",
      "sakakah\n",
      "sept-iles\n",
      "zakamensk\n",
      "haines junction\n",
      "City not found: kamenskoye\n",
      "hirara\n",
      "richards bay\n",
      "dongsheng\n",
      "saint anthony\n",
      "nalut\n",
      "manokwari\n",
      "san quintin\n",
      "City not found: ksenyevka\n",
      "chapais\n",
      "ambovombe\n",
      "homer\n",
      "mizdah\n",
      "birao\n",
      "nabire\n",
      "biltine\n",
      "kishapu\n",
      "ramsey\n",
      "City not found: ciudanovita\n",
      "malakal\n",
      "khani\n",
      "City not found: meyungs\n",
      "yantal\n",
      "bonthe\n",
      "pochinki\n",
      "salisbury\n",
      "dapaong\n",
      "ninghai\n",
      "saint-denis\n",
      "ust-tsilma\n",
      "hirado\n",
      "waipawa\n",
      "stephenville\n",
      "linhares\n",
      "taiobeiras\n",
      "mandeville\n",
      "ust-kulom\n",
      "anadyr\n",
      "gouyave\n",
      "atbasar\n",
      "labuhan\n",
      "malumfashi\n",
      "sao joao da barra\n",
      "tura\n",
      "makarov\n",
      "vardo\n",
      "taganak\n",
      "qixingtai\n",
      "guasdualito\n",
      "mapiri\n",
      "staryy nadym\n",
      "cuamba\n",
      "seybaplaya\n",
      "omboue\n",
      "salinas\n",
      "congonhas\n",
      "kologriv\n",
      "shenjiamen\n",
      "fortuna\n",
      "warrnambool\n",
      "kuusamo\n",
      "baft\n",
      "bintulu\n",
      "mandera\n",
      "cap-aux-meules\n",
      "lerwick\n",
      "san carlos de bariloche\n",
      "barra do garcas\n",
      "hanyang\n",
      "City not found: felidhoo\n",
      "avera\n",
      "port hedland\n",
      "puerto penasco\n",
      "harper\n",
      "bilibino\n",
      "vilcun\n",
      "lagoa formosa\n",
      "City not found: bargal\n",
      "morgan city\n",
      "san rafael\n",
      "alice springs\n",
      "black diamond\n",
      "bubaque\n",
      "orbetello\n",
      "maua\n",
      "City not found: tumannyy\n",
      "morozovsk\n",
      "birjand\n",
      "lunca\n",
      "currais novos\n",
      "taoudenni\n",
      "bereda\n",
      "lasa\n",
      "varnavino\n",
      "reo\n",
      "arlit\n",
      "petropavlovsk-kamchatskiy\n",
      "bokoro\n",
      "nanortalik\n",
      "City not found: sorvag\n",
      "mangrol\n",
      "pocri\n",
      "kargil\n",
      "wynyard\n",
      "asfi\n",
      "tigil\n"
     ]
    }
   ],
   "source": [
    "for city in cities:\n",
    "    city_url = query_url + \"&q=\" + city\n",
    "\n",
    "    city_url = f\"{url}appid={weather_api_key}&units={units}&q={city}\"\n",
    "    \n",
    "    try:\n",
    "        response = requests.get(city_url).json()\n",
    "        lat = response[\"coord\"][\"lat\"]\n",
    "        long = response[\"coord\"][\"lon\"]\n",
    "        temp = response[\"main\"][\"temp_max\"]\n",
    "        humidity = response[\"main\"][\"humidity\"]\n",
    "        cloudiness = response[\"clouds\"][\"all\"]\n",
    "        windspeed = response[\"wind\"][\"speed\"]\n",
    "        date = response[\"dt\"]\n",
    "        country = response[\"sys\"][\"country\"]\n",
    "        \n",
    "# citydata.append({\"city\":city,\"lat\":lat,\"long\":long,\"temp_max\":temp})\n",
    "        citydata.append({\"City\": city, \"Latitude\": lat, \"Longitude\": long, \"Max Temperature\": temp, \"Humidity\": humidity,\"Cloudiness\": cloudiness, \"Windspeed\": windspeed, \"Date\": date, \"Country\": country})\n",
    "        print(city)\n",
    "    except:\n",
    "        print(f\"City not found: {city}\")\n",
    "        \n",
    "        pass \n"
   ]
  },
  {
   "cell_type": "markdown",
   "metadata": {},
   "source": [
    "# Convert Raw Data to DataFrame\n",
    "#*Export the city data into a .csv.\n",
    "#* Display the DataFrame"
   ]
  },
  {
   "cell_type": "code",
   "execution_count": 8,
   "metadata": {},
   "outputs": [],
   "source": [
    "weatherpydict = pd.DataFrame({\"City\": city,\n",
    "                           \"Country\": country,\n",
    "                           \"Temperature\": temp,\n",
    "                           \"Humidity\": humidity,\n",
    "                           \"Cloudiness\": cloudiness,\n",
    "                           \"Windspeed\":windspeed,\n",
    "                           \"Latitude\": lat,\n",
    "                           \"Longitude\": long,\n",
    "                           \"Date\": date}, index=[0])"
   ]
  },
  {
   "cell_type": "code",
   "execution_count": 9,
   "metadata": {},
   "outputs": [],
   "source": [
    "# city_df=pd.DataFrame(citydata, columns=[\"city\",\"cloudiness\",\"country\", \"date\",\"humidity\",\"lat\",\"lng\",\"max temp\",\"wind speed\"])\n",
    "city_df=pd.DataFrame(citydata)"
   ]
  },
  {
   "cell_type": "code",
   "execution_count": 10,
   "metadata": {},
   "outputs": [
    {
     "data": {
      "text/html": [
       "<div>\n",
       "<style scoped>\n",
       "    .dataframe tbody tr th:only-of-type {\n",
       "        vertical-align: middle;\n",
       "    }\n",
       "\n",
       "    .dataframe tbody tr th {\n",
       "        vertical-align: top;\n",
       "    }\n",
       "\n",
       "    .dataframe thead th {\n",
       "        text-align: right;\n",
       "    }\n",
       "</style>\n",
       "<table border=\"1\" class=\"dataframe\">\n",
       "  <thead>\n",
       "    <tr style=\"text-align: right;\">\n",
       "      <th></th>\n",
       "      <th>City</th>\n",
       "      <th>Latitude</th>\n",
       "      <th>Longitude</th>\n",
       "      <th>Max Temperature</th>\n",
       "      <th>Humidity</th>\n",
       "      <th>Cloudiness</th>\n",
       "      <th>Windspeed</th>\n",
       "      <th>Date</th>\n",
       "      <th>Country</th>\n",
       "    </tr>\n",
       "  </thead>\n",
       "  <tbody>\n",
       "    <tr>\n",
       "      <th>0</th>\n",
       "      <td>syumsi</td>\n",
       "      <td>57.11</td>\n",
       "      <td>51.61</td>\n",
       "      <td>59.79</td>\n",
       "      <td>95</td>\n",
       "      <td>100</td>\n",
       "      <td>7.00</td>\n",
       "      <td>1593272831</td>\n",
       "      <td>RU</td>\n",
       "    </tr>\n",
       "    <tr>\n",
       "      <th>1</th>\n",
       "      <td>svetlyy</td>\n",
       "      <td>54.67</td>\n",
       "      <td>20.13</td>\n",
       "      <td>68.00</td>\n",
       "      <td>88</td>\n",
       "      <td>75</td>\n",
       "      <td>6.71</td>\n",
       "      <td>1593272831</td>\n",
       "      <td>RU</td>\n",
       "    </tr>\n",
       "    <tr>\n",
       "      <th>2</th>\n",
       "      <td>husavik</td>\n",
       "      <td>66.04</td>\n",
       "      <td>-17.34</td>\n",
       "      <td>48.20</td>\n",
       "      <td>81</td>\n",
       "      <td>90</td>\n",
       "      <td>9.17</td>\n",
       "      <td>1593272559</td>\n",
       "      <td>IS</td>\n",
       "    </tr>\n",
       "    <tr>\n",
       "      <th>3</th>\n",
       "      <td>saint-philippe</td>\n",
       "      <td>-21.36</td>\n",
       "      <td>55.77</td>\n",
       "      <td>71.60</td>\n",
       "      <td>73</td>\n",
       "      <td>20</td>\n",
       "      <td>5.82</td>\n",
       "      <td>1593272831</td>\n",
       "      <td>RE</td>\n",
       "    </tr>\n",
       "    <tr>\n",
       "      <th>4</th>\n",
       "      <td>gazanjyk</td>\n",
       "      <td>39.24</td>\n",
       "      <td>55.52</td>\n",
       "      <td>84.09</td>\n",
       "      <td>15</td>\n",
       "      <td>7</td>\n",
       "      <td>10.89</td>\n",
       "      <td>1593272831</td>\n",
       "      <td>TM</td>\n",
       "    </tr>\n",
       "    <tr>\n",
       "      <th>...</th>\n",
       "      <td>...</td>\n",
       "      <td>...</td>\n",
       "      <td>...</td>\n",
       "      <td>...</td>\n",
       "      <td>...</td>\n",
       "      <td>...</td>\n",
       "      <td>...</td>\n",
       "      <td>...</td>\n",
       "      <td>...</td>\n",
       "    </tr>\n",
       "    <tr>\n",
       "      <th>563</th>\n",
       "      <td>pocri</td>\n",
       "      <td>8.27</td>\n",
       "      <td>-80.55</td>\n",
       "      <td>78.35</td>\n",
       "      <td>87</td>\n",
       "      <td>100</td>\n",
       "      <td>5.64</td>\n",
       "      <td>1593272857</td>\n",
       "      <td>PA</td>\n",
       "    </tr>\n",
       "    <tr>\n",
       "      <th>564</th>\n",
       "      <td>kargil</td>\n",
       "      <td>34.57</td>\n",
       "      <td>76.10</td>\n",
       "      <td>58.59</td>\n",
       "      <td>37</td>\n",
       "      <td>5</td>\n",
       "      <td>9.84</td>\n",
       "      <td>1593272857</td>\n",
       "      <td>IN</td>\n",
       "    </tr>\n",
       "    <tr>\n",
       "      <th>565</th>\n",
       "      <td>wynyard</td>\n",
       "      <td>-41.00</td>\n",
       "      <td>145.72</td>\n",
       "      <td>37.99</td>\n",
       "      <td>91</td>\n",
       "      <td>60</td>\n",
       "      <td>3.00</td>\n",
       "      <td>1593272857</td>\n",
       "      <td>AU</td>\n",
       "    </tr>\n",
       "    <tr>\n",
       "      <th>566</th>\n",
       "      <td>asfi</td>\n",
       "      <td>32.30</td>\n",
       "      <td>-9.24</td>\n",
       "      <td>73.72</td>\n",
       "      <td>65</td>\n",
       "      <td>0</td>\n",
       "      <td>23.24</td>\n",
       "      <td>1593272858</td>\n",
       "      <td>MA</td>\n",
       "    </tr>\n",
       "    <tr>\n",
       "      <th>567</th>\n",
       "      <td>tigil</td>\n",
       "      <td>57.80</td>\n",
       "      <td>158.67</td>\n",
       "      <td>42.93</td>\n",
       "      <td>74</td>\n",
       "      <td>5</td>\n",
       "      <td>5.39</td>\n",
       "      <td>1593272858</td>\n",
       "      <td>RU</td>\n",
       "    </tr>\n",
       "  </tbody>\n",
       "</table>\n",
       "<p>568 rows × 9 columns</p>\n",
       "</div>"
      ],
      "text/plain": [
       "               City  Latitude  Longitude  Max Temperature  Humidity  \\\n",
       "0            syumsi     57.11      51.61            59.79        95   \n",
       "1           svetlyy     54.67      20.13            68.00        88   \n",
       "2           husavik     66.04     -17.34            48.20        81   \n",
       "3    saint-philippe    -21.36      55.77            71.60        73   \n",
       "4          gazanjyk     39.24      55.52            84.09        15   \n",
       "..              ...       ...        ...              ...       ...   \n",
       "563           pocri      8.27     -80.55            78.35        87   \n",
       "564          kargil     34.57      76.10            58.59        37   \n",
       "565         wynyard    -41.00     145.72            37.99        91   \n",
       "566            asfi     32.30      -9.24            73.72        65   \n",
       "567           tigil     57.80     158.67            42.93        74   \n",
       "\n",
       "     Cloudiness  Windspeed        Date Country  \n",
       "0           100       7.00  1593272831      RU  \n",
       "1            75       6.71  1593272831      RU  \n",
       "2            90       9.17  1593272559      IS  \n",
       "3            20       5.82  1593272831      RE  \n",
       "4             7      10.89  1593272831      TM  \n",
       "..          ...        ...         ...     ...  \n",
       "563         100       5.64  1593272857      PA  \n",
       "564           5       9.84  1593272857      IN  \n",
       "565          60       3.00  1593272857      AU  \n",
       "566           0      23.24  1593272858      MA  \n",
       "567           5       5.39  1593272858      RU  \n",
       "\n",
       "[568 rows x 9 columns]"
      ]
     },
     "execution_count": 10,
     "metadata": {},
     "output_type": "execute_result"
    }
   ],
   "source": [
    "# Export to csv\n",
    "city_df.to_csv(r'/Users/eline/Documents/API-Challenge/WeatherPy/city_df.csv', index = False)\n",
    "city_df"
   ]
  },
  {
   "cell_type": "markdown",
   "metadata": {},
   "source": [
    "## Inspect the data and remove the cities where the humidity > 100%.\n",
    "----\n",
    "Skip this step if there are no cities that have humidity > 100%. "
   ]
  },
  {
   "cell_type": "code",
   "execution_count": 11,
   "metadata": {},
   "outputs": [
    {
     "data": {
      "text/html": [
       "<div>\n",
       "<style scoped>\n",
       "    .dataframe tbody tr th:only-of-type {\n",
       "        vertical-align: middle;\n",
       "    }\n",
       "\n",
       "    .dataframe tbody tr th {\n",
       "        vertical-align: top;\n",
       "    }\n",
       "\n",
       "    .dataframe thead th {\n",
       "        text-align: right;\n",
       "    }\n",
       "</style>\n",
       "<table border=\"1\" class=\"dataframe\">\n",
       "  <thead>\n",
       "    <tr style=\"text-align: right;\">\n",
       "      <th></th>\n",
       "      <th>City</th>\n",
       "      <th>Latitude</th>\n",
       "      <th>Longitude</th>\n",
       "      <th>Max Temperature</th>\n",
       "      <th>Humidity</th>\n",
       "      <th>Cloudiness</th>\n",
       "      <th>Windspeed</th>\n",
       "      <th>Date</th>\n",
       "      <th>Country</th>\n",
       "    </tr>\n",
       "  </thead>\n",
       "  <tbody>\n",
       "  </tbody>\n",
       "</table>\n",
       "</div>"
      ],
      "text/plain": [
       "Empty DataFrame\n",
       "Columns: [City, Latitude, Longitude, Max Temperature, Humidity, Cloudiness, Windspeed, Date, Country]\n",
       "Index: []"
      ]
     },
     "execution_count": 11,
     "metadata": {},
     "output_type": "execute_result"
    }
   ],
   "source": [
    "highhumidityDF = city_df[(city_df[\"Humidity\"]>100)]\n",
    "highhumidityDF"
   ]
  },
  {
   "cell_type": "code",
   "execution_count": 12,
   "metadata": {},
   "outputs": [
    {
     "data": {
      "text/plain": [
       "Int64Index([], dtype='int64')"
      ]
     },
     "execution_count": 12,
     "metadata": {},
     "output_type": "execute_result"
    }
   ],
   "source": [
    "#  Get the indices of cities that have humidity over 100%.\n",
    "highhumidityDF.index"
   ]
  },
  {
   "cell_type": "code",
   "execution_count": 13,
   "metadata": {},
   "outputs": [
    {
     "data": {
      "text/plain": [
       "568"
      ]
     },
     "execution_count": 13,
     "metadata": {},
     "output_type": "execute_result"
    }
   ],
   "source": [
    "city_df[\"Humidity\"].count()"
   ]
  },
  {
   "cell_type": "code",
   "execution_count": 14,
   "metadata": {},
   "outputs": [],
   "source": [
    "outliers_index = city_df[city_df[\"Humidity\"] > 100].index"
   ]
  },
  {
   "cell_type": "code",
   "execution_count": 15,
   "metadata": {},
   "outputs": [],
   "source": [
    "# Create new dataframe to drop humidity outliers (by index)\n",
    "clean_city_data = city_df.drop(index=outliers_index)"
   ]
  },
  {
   "cell_type": "code",
   "execution_count": 16,
   "metadata": {},
   "outputs": [
    {
     "data": {
      "text/html": [
       "<div>\n",
       "<style scoped>\n",
       "    .dataframe tbody tr th:only-of-type {\n",
       "        vertical-align: middle;\n",
       "    }\n",
       "\n",
       "    .dataframe tbody tr th {\n",
       "        vertical-align: top;\n",
       "    }\n",
       "\n",
       "    .dataframe thead th {\n",
       "        text-align: right;\n",
       "    }\n",
       "</style>\n",
       "<table border=\"1\" class=\"dataframe\">\n",
       "  <thead>\n",
       "    <tr style=\"text-align: right;\">\n",
       "      <th></th>\n",
       "      <th>City</th>\n",
       "      <th>Country</th>\n",
       "      <th>Latitude</th>\n",
       "      <th>Max Temperature</th>\n",
       "      <th>Humidity</th>\n",
       "      <th>Cloudiness</th>\n",
       "      <th>Windspeed</th>\n",
       "      <th>Date</th>\n",
       "    </tr>\n",
       "  </thead>\n",
       "  <tbody>\n",
       "    <tr>\n",
       "      <th>0</th>\n",
       "      <td>syumsi</td>\n",
       "      <td>RU</td>\n",
       "      <td>57.11</td>\n",
       "      <td>59.79</td>\n",
       "      <td>95</td>\n",
       "      <td>100</td>\n",
       "      <td>7.00</td>\n",
       "      <td>1593272831</td>\n",
       "    </tr>\n",
       "    <tr>\n",
       "      <th>1</th>\n",
       "      <td>svetlyy</td>\n",
       "      <td>RU</td>\n",
       "      <td>54.67</td>\n",
       "      <td>68.00</td>\n",
       "      <td>88</td>\n",
       "      <td>75</td>\n",
       "      <td>6.71</td>\n",
       "      <td>1593272831</td>\n",
       "    </tr>\n",
       "    <tr>\n",
       "      <th>2</th>\n",
       "      <td>husavik</td>\n",
       "      <td>IS</td>\n",
       "      <td>66.04</td>\n",
       "      <td>48.20</td>\n",
       "      <td>81</td>\n",
       "      <td>90</td>\n",
       "      <td>9.17</td>\n",
       "      <td>1593272559</td>\n",
       "    </tr>\n",
       "    <tr>\n",
       "      <th>3</th>\n",
       "      <td>saint-philippe</td>\n",
       "      <td>RE</td>\n",
       "      <td>-21.36</td>\n",
       "      <td>71.60</td>\n",
       "      <td>73</td>\n",
       "      <td>20</td>\n",
       "      <td>5.82</td>\n",
       "      <td>1593272831</td>\n",
       "    </tr>\n",
       "    <tr>\n",
       "      <th>4</th>\n",
       "      <td>gazanjyk</td>\n",
       "      <td>TM</td>\n",
       "      <td>39.24</td>\n",
       "      <td>84.09</td>\n",
       "      <td>15</td>\n",
       "      <td>7</td>\n",
       "      <td>10.89</td>\n",
       "      <td>1593272831</td>\n",
       "    </tr>\n",
       "  </tbody>\n",
       "</table>\n",
       "</div>"
      ],
      "text/plain": [
       "             City Country  Latitude  Max Temperature  Humidity  Cloudiness  \\\n",
       "0          syumsi      RU     57.11            59.79        95         100   \n",
       "1         svetlyy      RU     54.67            68.00        88          75   \n",
       "2         husavik      IS     66.04            48.20        81          90   \n",
       "3  saint-philippe      RE    -21.36            71.60        73          20   \n",
       "4        gazanjyk      TM     39.24            84.09        15           7   \n",
       "\n",
       "   Windspeed        Date  \n",
       "0       7.00  1593272831  \n",
       "1       6.71  1593272831  \n",
       "2       9.17  1593272559  \n",
       "3       5.82  1593272831  \n",
       "4      10.89  1593272831  "
      ]
     },
     "execution_count": 16,
     "metadata": {},
     "output_type": "execute_result"
    }
   ],
   "source": [
    "# Extract relevant fields from the data frame\n",
    "\n",
    "relevant_data = city_df[[\"City\",\"Country\", \"Latitude\", \"Max Temperature\", \"Humidity\", \"Cloudiness\", \"Windspeed\", \"Date\"]]\n",
    "\n",
    "\n",
    "# Export the relevant data into a csv\n",
    "\n",
    "relevant_data.to_csv(r'/Users/eline/Documents/API-Challenge/WeatherPy/relevant_data.csv', index = False)\n",
    "relevant_data.head()\n"
   ]
  },
  {
   "cell_type": "markdown",
   "metadata": {},
   "source": [
    "## Plotting the Data\n",
    "* Use proper labeling of the plots using plot titles (including date of analysis) and axes labels.\n",
    "* Save the plotted figures as .pngs."
   ]
  },
  {
   "cell_type": "markdown",
   "metadata": {},
   "source": [
    "## Latitude vs. Temperature Plot"
   ]
  },
  {
   "cell_type": "code",
   "execution_count": 17,
   "metadata": {
    "scrolled": true
   },
   "outputs": [
    {
     "data": {
      "image/png": "[encoded data removed]",
      "text/plain": [
       "<Figure size 432x288 with 1 Axes>"
      ]
     },
     "metadata": {
      "needs_background": "light"
     },
     "output_type": "display_data"
    }
   ],
   "source": [
    "# Use max date in dataset as final date (date where plot was created form dataset) as plot titles\n",
    "\n",
    "finalrundate = relevant_data[\"Date\"].max()\n",
    "enddate = datetime.utcfromtimestamp(finalrundate).strftime(\"%Y-%m-%d\")\n",
    "\n",
    "# Plot data, set x-axis and y-axis\n",
    "x = relevant_data[\"Latitude\"]\n",
    "y = relevant_data[\"Max Temperature\"]\n",
    "plt.scatter(x,y)\n",
    "\n",
    "# Add axis titles, labels, and gridlines to plot\n",
    "plt.title(f\"(Latitude vs. Temperature on {enddate}\")\n",
    "plt.xlabel(\"Latitude\")\n",
    "plt.ylabel(\"Temperature (F)\")\n",
    "plt.grid()\n",
    "\n",
    "# Export as .png file\n",
    "plt.savefig(r'/Users/eline/Documents/API-Challenge/WeatherPy/Latitude vs. Temperature on {enddate}.png')\n",
    "\n",
    "# Show plot\n",
    "plt.show()"
   ]
  },
  {
   "cell_type": "markdown",
   "metadata": {},
   "source": [
    "## Latitude vs. Humidity Plot"
   ]
  },
  {
   "cell_type": "code",
   "execution_count": 18,
   "metadata": {},
   "outputs": [
    {
     "data": {
      "image/png": "[encoded data removed]",
      "text/plain": [
       "<Figure size 432x288 with 1 Axes>"
      ]
     },
     "metadata": {
      "needs_background": "light"
     },
     "output_type": "display_data"
    }
   ],
   "source": [
    "# Populate plot\n",
    "hum = relevant_data[\"Humidity\"]\n",
    "# Use x cfr. Latitude vs. Temperature plot see supra\n",
    "plt.scatter(x,hum)\n",
    "# Add title, grids, and labels to plot\n",
    "plt.title(f\"Latitude vs. Humidity on {enddate}\")\n",
    "plt.grid()\n",
    "plt.xlabel(\"Latitude\")\n",
    "plt.ylabel(\"Humidity (%)\")\n",
    "# Export plot as .png file\n",
    "plt.savefig(r'/Users/eline/Documents/API-Challenge/WeatherPy/Latitude vs. Humidity on {enddate}.png')\n",
    "# Show plot\n",
    "plt.show()"
   ]
  },
  {
   "cell_type": "markdown",
   "metadata": {},
   "source": [
    "## Latitude vs. Cloudiness Plot"
   ]
  },
  {
   "cell_type": "code",
   "execution_count": 19,
   "metadata": {},
   "outputs": [
    {
     "data": {
      "image/png": "[encoded data removed]",
      "text/plain": [
       "<Figure size 432x288 with 1 Axes>"
      ]
     },
     "metadata": {
      "needs_background": "light"
     },
     "output_type": "display_data"
    }
   ],
   "source": [
    "# Populate plot\n",
    "clouds = relevant_data[\"Cloudiness\"]\n",
    "# Use x cfr. Latitude vs. Temperature plot see supra\n",
    "plt.scatter(x, clouds)\n",
    "# Add title, grids, and labels to plot\n",
    "plt.title(f\"latitude vs. Cloudiness on {enddate}\")\n",
    "plt.grid()\n",
    "plt.xlabel(\"Latitude\")\n",
    "plt.ylabel(\"Cloudiness (%)\")\n",
    "# Export plot as .png file\n",
    "plt.savefig(r'/Users/eline/Documents/API-Challenge/WeatherPy/Latitude vs. Cloudiness on {enddate}.png')\n",
    "# Show plot\n",
    "plt.show()"
   ]
  },
  {
   "cell_type": "markdown",
   "metadata": {},
   "source": [
    "## Latitude vs. Wind Speed Plot"
   ]
  },
  {
   "cell_type": "code",
   "execution_count": 20,
   "metadata": {},
   "outputs": [
    {
     "data": {
      "image/png": "[encoded data removed]",
      "text/plain": [
       "<Figure size 432x288 with 1 Axes>"
      ]
     },
     "metadata": {
      "needs_background": "light"
     },
     "output_type": "display_data"
    }
   ],
   "source": [
    "windspeed = relevant_data[\"Windspeed\"]\n",
    "\n",
    "# Use x cfr. Latitude vs. Temperature plot see supra\n",
    "plt.scatter(x,windspeed)\n",
    "\n",
    "# Add title, grid, and labels to plot\n",
    "plt.title(f\"Latitude vs. Windspeed on {enddate}\")\n",
    "plt.grid()\n",
    "plt.xlabel(\"Latitude\")\n",
    "plt.ylabel(\"Windspeed (mph)\")\n",
    "\n",
    "# Export plot as .png file\n",
    "plt.savefig(r'/Users/eline/Documents/API-Challenge/WeatherPy/Latitude vs. Wind Speed on {enddate}.png')\n",
    "\n",
    "# Show plot\n",
    "plt.show()"
   ]
  },
  {
   "cell_type": "markdown",
   "metadata": {},
   "source": [
    "## Linear Regression"
   ]
  },
  {
   "cell_type": "code",
   "execution_count": 21,
   "metadata": {},
   "outputs": [],
   "source": [
    "# OPTIONAL: Create a function to create Linear Regression plots\n",
    "\n",
    "# Name the function \"LRfunction\"\n",
    "# Declare variables:\n",
    "# x_values: first set of data\n",
    "# y_values: second set of data\n",
    "# equationlinex: where the linear regression equation appears on the plot x line\n",
    "# equationliney: where the linear regression equation appears on the plot y line\n",
    "# y_label: the y axis label of the plot (x label is always Latitude)\n",
    "\n",
    "# Function is \"LRfunction\"\n",
    "def LRfunction(x_values, y_values, equationlinex, equationliney, y_label):\n",
    "    (slope, intercept, rvalue, pvalue, stderr) = linregress(x_values, y_values)\n",
    "    regress_values = x_values * slope + intercept\n",
    "    eqline = \"y = \" + str(round(slope,2)) + \"x + \" + str(round(intercept,2))\n",
    "    plt.scatter(x_values,y_values)\n",
    "    plt.plot(x_values,regress_values,\"r-\")\n",
    "    print(f\"R-squared is {rvalue}\")\n",
    "    print(eqline)\n",
    "    plt.annotate(eqline,(equationlinex, equationliney), fontsize = 14, color = \"blue\")\n",
    "    plt.xlabel(\"Latitude\")\n",
    "    plt.ylabel(f\"{y_label}\")\n",
    "    plt.grid()\n"
   ]
  },
  {
   "cell_type": "code",
   "execution_count": 22,
   "metadata": {},
   "outputs": [],
   "source": [
    "# Create Northern and Southern Hemisphere DataFrames\n",
    "# .Loc for cities above (Northern) and below (Southern) the equator (equator = latitude 0, cities with these coordinates are excluded from the dataframes)\n",
    "\n",
    "northernDF = relevant_data.loc[relevant_data[\"Latitude\"]>0]\n",
    "southernDF = relevant_data.loc[relevant_data[\"Latitude\"]<0]"
   ]
  },
  {
   "cell_type": "markdown",
   "metadata": {},
   "source": [
    "####  Northern Hemisphere - Max Temp vs. Latitude Linear Regression"
   ]
  },
  {
   "cell_type": "code",
   "execution_count": 23,
   "metadata": {},
   "outputs": [
    {
     "name": "stdout",
     "output_type": "stream",
     "text": [
      "R-squared is -0.7248669938211701\n",
      "y = -0.58x + 94.16\n"
     ]
    },
    {
     "data": {
      "image/png": "[encoded data removed]",
      "text/plain": [
       "<Figure size 432x288 with 1 Axes>"
      ]
     },
     "metadata": {
      "needs_background": "light"
     },
     "output_type": "display_data"
    }
   ],
   "source": [
    "# Declare variables\n",
    "\n",
    "x_values = northernDF[\"Latitude\"]\n",
    "y_values = northernDF[\"Max Temperature\"]\n",
    "\n",
    "# Define where equation appears on plot\n",
    "\n",
    "equationlinex = 0\n",
    "equationliney = 50\n",
    "\n",
    "# Add title, label Y axis\n",
    "\n",
    "plt.title(f\"Northern Hemisphere - Max Temperature vs. Latitude on {enddate}\")\n",
    "y_label = \"Temperature (F)\"\n",
    "\n",
    "LRfunction(x_values, y_values, equationlinex, equationliney, y_label)\n",
    "\n",
    "# Export plot as .png file\n",
    "\n",
    "plt.savefig(r'/Users/eline/Documents/API-Challenge/WeatherPy/Northern Hemisphere Max Temp vs. Latitude Linear Regression on {enddate}.png')\n",
    "\n",
    "# Show Plot\n",
    "\n",
    "plt.show()"
   ]
  },
  {
   "cell_type": "markdown",
   "metadata": {},
   "source": [
    "####  Southern Hemisphere - Max Temp vs. Latitude Linear Regression"
   ]
  },
  {
   "cell_type": "code",
   "execution_count": 24,
   "metadata": {},
   "outputs": [
    {
     "name": "stdout",
     "output_type": "stream",
     "text": [
      "R-squared is 0.8219718436073994\n",
      "y = 0.92x + 85.77\n"
     ]
    },
    {
     "data": {
      "image/png": "[encoded data removed]",
      "text/plain": [
       "<Figure size 432x288 with 1 Axes>"
      ]
     },
     "metadata": {
      "needs_background": "light"
     },
     "output_type": "display_data"
    }
   ],
   "source": [
    "x_values = southernDF[\"Latitude\"]\n",
    "y_values = southernDF[\"Max Temperature\"]\n",
    "equationlinex = -20\n",
    "equationliney = 40\n",
    "y_label = \"Temperature (F)\"\n",
    "plt.title(f'Southern Hemisphere Temperature vs. Latitude on {enddate}')\n",
    "LRfunction(x_values, y_values, equationlinex, equationliney, y_label)\n",
    "plt.savefig(r'/Users/eline/Documents/API-Challenge/WeatherPy/Southern Hemisphere Latitude vs. Max Temperature Linear Regression on {enddate}.png')\n",
    "plt.show()"
   ]
  },
  {
   "cell_type": "markdown",
   "metadata": {},
   "source": [
    "####  Northern Hemisphere - Humidity (%) vs. Latitude Linear Regression"
   ]
  },
  {
   "cell_type": "code",
   "execution_count": 25,
   "metadata": {},
   "outputs": [
    {
     "name": "stdout",
     "output_type": "stream",
     "text": [
      "R-squared is 0.12571123802989143\n",
      "y = 0.14x + 62.1\n"
     ]
    },
    {
     "data": {
      "image/png": "[encoded data removed]",
      "text/plain": [
       "<Figure size 432x288 with 1 Axes>"
      ]
     },
     "metadata": {
      "needs_background": "light"
     },
     "output_type": "display_data"
    }
   ],
   "source": [
    "x_values = northernDF[\"Latitude\"]\n",
    "y_values = northernDF[\"Humidity\"]\n",
    "equationlinex = 50\n",
    "equationliney = 20\n",
    "y_label = \"Humidity (%)\"\n",
    "plt.title(f'Northern Hemisphere Humidity vs. Latitude on {enddate}')\n",
    "LRfunction(x_values, y_values, equationlinex, equationliney, y_label)\n",
    "plt.savefig(r'/Users/eline/Documents/API-Challenge/WeatherPy/Northern Hemisphere Humidity vs. Latitude on {enddate}.png')\n",
    "plt.show()"
   ]
  },
  {
   "cell_type": "markdown",
   "metadata": {},
   "source": [
    "####  Southern Hemisphere - Humidity (%) vs. Latitude Linear Regression"
   ]
  },
  {
   "cell_type": "code",
   "execution_count": 26,
   "metadata": {},
   "outputs": [
    {
     "name": "stdout",
     "output_type": "stream",
     "text": [
      "R-squared is -0.16465169937811908\n",
      "y = -0.23x + 64.48\n"
     ]
    },
    {
     "data": {
      "image/png": "[encoded data removed]",
      "text/plain": [
       "<Figure size 432x288 with 1 Axes>"
      ]
     },
     "metadata": {
      "needs_background": "light"
     },
     "output_type": "display_data"
    }
   ],
   "source": [
    "x_values = southernDF[\"Latitude\"]\n",
    "y_values = southernDF[\"Humidity\"]\n",
    "equationlinex = -55\n",
    "equationliney = 35\n",
    "y_label = \"Humidity (%)\"\n",
    "plt.title(f'Southern Hemisphere Latitude vs. Humidity on {enddate}')\n",
    "LRfunction(x_values, y_values, equationlinex, equationliney, y_label)\n",
    "plt.savefig(r'/Users/eline/Documents/API-Challenge/WeatherPy/Northern Hemisphere Latitude vs. Humidity on {enddate}.png')\n",
    "plt.show()"
   ]
  },
  {
   "cell_type": "markdown",
   "metadata": {},
   "source": [
    "####  Northern Hemisphere - Cloudiness (%) vs. Latitude Linear Regression"
   ]
  },
  {
   "cell_type": "code",
   "execution_count": 27,
   "metadata": {},
   "outputs": [
    {
     "name": "stdout",
     "output_type": "stream",
     "text": [
      "R-squared is -0.059340966719280866\n",
      "y = -0.11x + 58.79\n"
     ]
    },
    {
     "data": {
      "image/png": "[encoded data removed]",
      "text/plain": [
       "<Figure size 432x288 with 1 Axes>"
      ]
     },
     "metadata": {
      "needs_background": "light"
     },
     "output_type": "display_data"
    }
   ],
   "source": [
    "x_values = northernDF[\"Latitude\"]\n",
    "y_values = northernDF[\"Cloudiness\"]\n",
    "equationlinex = 0\n",
    "equationliney = 30\n",
    "y_label = \"Cloudiness (%)\"\n",
    "plt.title(f'Northern Hemisphere Latitude vs. Cloudiness (%) on {enddate}')\n",
    "LRfunction(x_values, y_values, equationlinex, equationliney, y_label)\n",
    "plt.savefig(r'/Users/eline/Documents/API-Challenge/WeatherPy/Northern Hemisphere Latitude vs. Cloudiness on {enddate}.png')\n",
    "plt.show()"
   ]
  },
  {
   "cell_type": "markdown",
   "metadata": {},
   "source": [
    "####  Southern Hemisphere - Cloudiness (%) vs. Latitude Linear Regression"
   ]
  },
  {
   "cell_type": "code",
   "execution_count": 28,
   "metadata": {},
   "outputs": [
    {
     "name": "stdout",
     "output_type": "stream",
     "text": [
      "R-squared is -0.018660374690624613\n",
      "y = -0.05x + 46.91\n"
     ]
    },
    {
     "data": {
      "image/png": "[encoded data removed]",
      "text/plain": [
       "<Figure size 432x288 with 1 Axes>"
      ]
     },
     "metadata": {
      "needs_background": "light"
     },
     "output_type": "display_data"
    }
   ],
   "source": [
    "x_values = southernDF[\"Latitude\"]\n",
    "y_values = southernDF[\"Cloudiness\"]\n",
    "equationlinex = -55\n",
    "equationliney = 60\n",
    "y_label = \"Cloudiness (%)\"\n",
    "plt.title(f'Southern Hemisphere Latitude vs. Cloudiness (%) on {enddate}')\n",
    "LRfunction(x_values, y_values, equationlinex, equationliney, y_label)\n",
    "plt.savefig(r'/Users/eline/Documents/API-Challenge/WeatherPy/Northern Hemisphere Latitude vs. Cloudiness on {enddate}.png')\n",
    "plt.show()"
   ]
  },
  {
   "cell_type": "markdown",
   "metadata": {},
   "source": [
    "####  Northern Hemisphere - Wind Speed (mph) vs. Latitude Linear Regression"
   ]
  },
  {
   "cell_type": "code",
   "execution_count": 29,
   "metadata": {},
   "outputs": [
    {
     "name": "stdout",
     "output_type": "stream",
     "text": [
      "R-squared is -0.011196568771062386\n",
      "y = -0.0x + 8.86\n"
     ]
    },
    {
     "data": {
      "image/png": "[encoded data removed]",
      "text/plain": [
       "<Figure size 432x288 with 1 Axes>"
      ]
     },
     "metadata": {
      "needs_background": "light"
     },
     "output_type": "display_data"
    }
   ],
   "source": [
    "x_values = northernDF[\"Latitude\"]\n",
    "y_values = northernDF[\"Windspeed\"]\n",
    "equationlinex = 45\n",
    "equationliney = 25\n",
    "y_label = \"Wind Speed (MPH)\"\n",
    "plt.title(f'Northern Hemisphere Latitude vs. Wind Speed (mph) on {enddate}')\n",
    "LRfunction(x_values, y_values, equationlinex, equationliney, y_label)\n",
    "plt.savefig(r'/Users/eline/Documents/API-Challenge/WeatherPy/Northern Hemisphere Latitude vs. Wind Speed (mph) on {enddate}.png')\n",
    "plt.show()"
   ]
  },
  {
   "cell_type": "markdown",
   "metadata": {},
   "source": [
    "####  Southern Hemisphere - Wind Speed (mph) vs. Latitude Linear Regression"
   ]
  },
  {
   "cell_type": "code",
   "execution_count": 30,
   "metadata": {},
   "outputs": [
    {
     "name": "stdout",
     "output_type": "stream",
     "text": [
      "R-squared is -0.06504720068100452\n",
      "y = -0.02x + 6.85\n"
     ]
    },
    {
     "data": {
      "image/png": "[encoded data removed]",
      "text/plain": [
       "<Figure size 432x288 with 1 Axes>"
      ]
     },
     "metadata": {
      "needs_background": "light"
     },
     "output_type": "display_data"
    }
   ],
   "source": [
    "x_values = southernDF[\"Latitude\"]\n",
    "y_values = southernDF[\"Windspeed\"]\n",
    "equationlinex = -50\n",
    "equationliney = 20\n",
    "y_label = \"Wind Speed (MPH)\"\n",
    "plt.title(f'Southern Hemisphere Latitude vs. Wind Speed (mph) on {enddate}')\n",
    "LRfunction(x_values, y_values, equationlinex, equationliney, y_label)\n",
    "plt.savefig(r'/Users/eline/Documents/API-Challenge/WeatherPy/Northern Hemisphere Latitude vs. Wind Speed (mph) on {enddate}.png')\n",
    "plt.show()"
   ]
  },
  {
   "cell_type": "markdown",
   "metadata": {},
   "source": []
  }
 ],
 "metadata": {
  "anaconda-cloud": {},
  "kernel_info": {
   "name": "python3"
  },
  "kernelspec": {
   "display_name": "Python 3",
   "language": "python",
   "name": "python3"
  },
  "language_info": {
   "codemirror_mode": {
    "name": "ipython",
    "version": 3
   },
   "file_extension": ".py",
   "mimetype": "text/x-python",
   "name": "python",
   "nbconvert_exporter": "python",
   "pygments_lexer": "ipython3",
   "version": "3.7.6"
  },
  "latex_envs": {
   "LaTeX_envs_menu_present": true,
   "autoclose": false,
   "autocomplete": true,
   "bibliofile": "biblio.bib",
   "cite_by": "apalike",
   "current_citInitial": 1,
   "eqLabelWithNumbers": true,
   "eqNumInitial": 1,
   "hotkeys": {
    "equation": "Ctrl-E",
    "itemize": "Ctrl-I"
   },
   "labels_anchors": false,
   "latex_user_defs": false,
   "report_style_numbering": false,
   "user_envs_cfg": false
  },
  "nteract": {
   "version": "0.12.3"
  }
 },
 "nbformat": 4,
 "nbformat_minor": 2
}
